{
 "cells": [
  {
   "cell_type": "code",
   "execution_count": null,
   "metadata": {},
   "outputs": [],
   "source": [
    "## Explore and sample stock headlines/blurbs and review the model's ability to evaluate the sentiment.\n",
    "## The purpose of this notebook is to obtain the results of webscraping news headlines and blurbs related to a stock symbol.\n",
    "## and to evaluate how the model regards the sentiment each text."
   ]
  },
  {
   "cell_type": "code",
   "execution_count": 3,
   "metadata": {},
   "outputs": [],
   "source": [
    "import requests\n",
    "import urllib.request\n",
    "import time\n",
    "import spacy\n",
    "from bs4 import BeautifulSoup\n",
    "import pandas as pd\n",
    "from joblib import dump, load"
   ]
  },
  {
   "cell_type": "code",
   "execution_count": 4,
   "metadata": {},
   "outputs": [],
   "source": [
    "clf = load('sentiment.joblib')"
   ]
  },
  {
   "cell_type": "code",
   "execution_count": 53,
   "metadata": {},
   "outputs": [],
   "source": [
    "stock_name = \"BAC\""
   ]
  },
  {
   "cell_type": "code",
   "execution_count": 54,
   "metadata": {},
   "outputs": [],
   "source": [
    "numResults = 100\n",
    "url = f'https://www.google.com/search?q=stock+symbol+{stock_name}&tbm=nws&hl=en&num={str(numResults)}'\n",
    "# https://www.google.com/search?q=stock+symbol+AMZN&tbm=nws&hl=en&num=50\n",
    "\n",
    "response = requests.get(url)\n",
    "soup = BeautifulSoup(response.content, 'html.parser')\n",
    "\n",
    "# Get the links, headline and description text\n",
    "results = soup.find_all(\"div\", attrs={\"class\": \"ZINbbc\"})\n",
    "headlines = []\n",
    "descriptions = []\n",
    "links = []\n",
    "for result in results:\n",
    "    try:\n",
    "        headline = result.find(\"div\", attrs={\"class\": \"vvjwJb\"}).get_text()\n",
    "        if headline != \"\":\n",
    "            headlines.append(headline)\n",
    "            links.append(\"google.com\"+result.a[\"href\"])\n",
    "        description = result.find(\n",
    "            \"div\", attrs={\"class\": \"s3v9rd\"}).get_text()\n",
    "        if description != \"\":\n",
    "            # remove the \"1 day ago\" etc.\n",
    "            description = description[description.find(\"·\")+1:]\n",
    "            descriptions.append(description)\n",
    "    except:\n",
    "        continue"
   ]
  },
  {
   "cell_type": "code",
   "execution_count": 55,
   "metadata": {},
   "outputs": [],
   "source": [
    "text_list = []\n",
    "for i in range(0,len(headlines)-1):\n",
    "    text_list.append(headlines[i]+\" \"+descriptions[i])"
   ]
  },
  {
   "cell_type": "code",
   "execution_count": 56,
   "metadata": {},
   "outputs": [
    {
     "data": {
      "text/plain": [
       "['February 2022 Options Now Available For Bank of America (BAC)  ... in Bank of America Corp (Symbol: BAC) saw new options begin trading ... If an investor was to purchase shares of BAC stock at the current...',\n",
       " 'BAC July 30th Options Begin Trading  Investors in Bank of America Corp (Symbol: BAC) saw new options begin trading today, for the July 30th expiration. At Stock Options Channel,...',\n",
       " 'Why Astra Space Stock Just Dropped 10%  10 stocks we like better than Astra Space, Inc. ... And Bank of America Corp (Symbol: BAC) options are showing a volume of 232,034 contracts...',\n",
       " 'Buy WISH Stock Before It Joins GME and AMC as a Retail Favorite  WISH Stock has been jumping for a while now due to meme mania. ... And Bank of America Corp (Symbol: BAC) options are showing a volume...',\n",
       " \"Wall Street and Your Fiends Both Like SoFi, So Buy SOFI Stock  Everyone we've told about SOFI stock loves that too. ... heat to banks like Wells Fargo (NYSE:WFC), Bank of America (NYSE:BAC) and others.\",\n",
       " 'What to watch today: Wall Street headed for its best week in months  U.S. stock futures rose Friday, one day after the S&P 500 and Nasdaq ... of Class A common stock, on the New York Stock Exchange under ticker symbol ... Bank of America (BAC) and Citigroup (C), were higher in premarket...',\n",
       " '7 Strong Stocks to Buy for July 2021  The company famous for its “swoosh” symbol forecast full-year sales of ... price targets on the stock, including at Bank of America (NYSE:BAC)...',\n",
       " \"Bank of America (BAC) Outpaces Stock Market Gains: What You Should Know  Prior to today's trading, shares of the nation's second-largest bank had gained 5.02% over the past month. This has outpaced the Finance sector's...\",\n",
       " 'Bank of America Declares Quarterly Stock Dividends  Bank of America is a global leader in wealth management, corporate and investment banking and trading across a broad range of asset...',\n",
       " \"Is Bank of America (BAC) Stock A Buy or Sell?  Bank of America Corporation (NYSE:BAC) was in 99 hedge funds' portfolios at the end of December. The all time high for this statistic is 139.\",\n",
       " 'Should You Invest in Bank of America (BAC)?  As of June 03, 2021, the stock closed at $43.25 per share. Here is what ClearBridge Investments has to say about Bank of America Corporation in...',\n",
       " 'Bank of America Declares Preferred Stock Dividends  Bank of America Corporation stock (NYSE: BAC) is listed on the New York Stock Exchange. Story continues.',\n",
       " 'Bank of America (BAC) Stock Sinks As Market Gains: What You Should Know  Bank of America (BAC) closed the most recent trading day at $37.24, moving -0.35% from the previous trading session. This change lagged the...',\n",
       " 'Is Bank of America Corp. (BAC) A Smart Long-Term Buy?  The top 10 stocks among hedge funds returned 231.2% between 2015 and 2020, and outperformed the S&P 500 Index ETFs by more than 126...',\n",
       " 'Is Bank of America (BAC) Stock Outpacing Its Finance Peers This Year?  Investors with an interest in Finance stocks should continue to track BAC. The stock will be looking to continue its solid performance. Want the...',\n",
       " 'Bank of America (BAC) Gains As Market Dips: What You Should Know  Bank of America (BAC) closed the most recent trading day at $38.99, moving +1.77% from the previous trading session. The stock outpaced the...',\n",
       " \"If You Invested $1000 in Bank of America a Decade Ago, This is How Much It'd Be Worth Now  For most investors, how much a stock's price changes over time is important. Not only can it impact your investment portfolio, but it can also help...\",\n",
       " \"Bank of America Corporation (NYSE:BAC) Passed Our Checks, And It's About To Pay A US$0.18 Dividend  Stocks in companies that generate sustainable earnings growth often make the best dividend prospects, as it is easier to lift the dividend when...\",\n",
       " \"Bank of America's Preferred Stock, Series KK Shares Cross 5% Yield Mark  In trading on Wednesday, shares of Bank of America Corp's 5.375% Non-Cumulative Preferred Stock, Series KK (Symbol: BAC.PRM) were...\",\n",
       " 'How Bank of America (BAC) Stock Stands Out in a Strong Industry  How Bank of America (BAC) Stock Stands Out in a Strong Industry ... Corporation price-consensus-chart | Bank of America Corporation Quote.',\n",
       " \"Bank of America Corp's 6.000% Non-Cumulative Preferred Stock, Series EE Shares Cross 6% Yield Mark  In trading on Wednesday, shares of Bank of America Corp's 6.000% Non-Cumulative Preferred Stock, Series EE (Symbol: BAC.PRA) were yielding above the...\",\n",
       " 'Andreas Halvorsen Sells Disney, Buys Bank of America  The firm established a new holding of 31,312,416 shares in Bank of America (NYSE:BAC), which had a 3.61% impact on the equity portfolio.',\n",
       " 'BAC Stock: Bank Of America Earnings Beat On Reserves ...  *Real-time prices by Nasdaq Last Sale. Realtime quote and/or trade prices are not sourced from all markets. Ownership data provided by Refinitiv...',\n",
       " 'Investment Banking to Aid BofA (BAC) Q1 Earnings Amid Weak Loans  Bank of America BAC is expected to have recorded decent trading performance in the first quarter of 2021. Similar to 2020, the quarter...',\n",
       " 'Bank of America Stock Is Fairly Priced  Despite a more than 70% gain since the March 23 lows of the last year, Bank of America stock (NYSE: BAC) is still trading 11% below its pre-...',\n",
       " 'Will Bank Of America Stock Reach $50 By 2022?  We surveyed a group of over 800 investors on whether shares of Bank of America Corp (NYSE: BAC) will reach $50 by 2022. Bank Of America...',\n",
       " \"Here's How Much Investing $1,000 In Bank Of America Stock 5 Years Ago Would Be Worth Today  Since then, Bank of America shares have regained nearly all of their lost ground and are currently trading at around $33. Bank of America...\",\n",
       " 'Shares of Bank of America Are Poised for Longer-Term Gains  In this daily bar chart of BAC, below, we can see how prices have climbed since early November. BAC is trading above the rising 50-day...',\n",
       " 'Earnings Estimates Rising for Bank of America (BAC): Will It Gain?  After all, empirical research shows a strong correlation between trends in earnings estimate revisions and near-term stock price movements. Our...',\n",
       " 'Is Bank of America (BAC) Outperforming Other Finance Stocks This Year?  Bank of America (BAC) is a stock that can certainly grab the attention of many investors, but do its recent returns compare favorably to the sector...',\n",
       " 'Bank of America to Report Second-Quarter 2021 Financial Results on July 14  Bank of America is a global leader in wealth management, corporate and investment banking and trading across a broad range of asset...',\n",
       " 'Bank of America increases quarterly dividend by 17%  (Reuters) - Bank of America Corp said on Monday it expects to increase quarterly stock dividend by 17% to 21 cents per share, beginning in the...',\n",
       " \"Bank of America (BAC) Flat As Market Sinks: What You Should Know  Heading into today, shares of the nation's second-largest bank had gained 3.89% over the past month, outpacing the Finance sector's gain of 0.6...\",\n",
       " 'BofA (BAC) Sees Q2 Loan Growth, Plans to Raise Capital Distribution  Vaccine stocks skidded Wednesday as the highly contagious Delta variant became the most prevalent Covid strain in the U.S.. 4h ago.',\n",
       " 'Bank Of America Names Top 11 Stock Picks For 2021  Provided by Nasdaq Last Sale. Real-time quote and/or trade prices are not sourced from all markets. Analysts Agree With Three BofA S&P 500...',\n",
       " \"Deliveroo stock boosted with Bank of America's 'buy' rating  Bank of America (BAC) said it is initiating its coverage of Deliveroo (ROO.L) with a 'buy' rating, as the food delivery company's shares went up...\",\n",
       " \"Bank of America (BAC) Dips More Than Broader Markets: What You Should Know  At the same time, the Dow lost 0.67%, and the tech-heavy Nasdaq gained 0.51%. Prior to today's trading, shares of the nation's second-largest...\",\n",
       " 'Bank Of America: Even After Its Strong Rally, Outstanding Growth Prospects Make It A Buy  The loan was structured as preferred stock with options to buy 700 million Bank of America common shares at $7 per share. At the time BAC...',\n",
       " 'Bank of America Issues Warning About Potential Stock Market Bubble  The U.S.-listed shares of several Chinese electric-vehicle makers were trading down on Wednesday after the Chinese government imposed...',\n",
       " 'Bank of America Corporation (BAC) Ex-Dividend Date Scheduled for June 03, 2021  Add/Edit Symbols View as Table. Add symbols now or see the quotes that matter to you, anywhere on Nasdaq.com. Start browsing stocks...',\n",
       " 'Bank of America Could See an Upside Breakout Early Next Year  In the updated daily bar chart of BAC, below, we can see that the shares are up about 50% from their March low but it has taken a long time to...',\n",
       " 'Noteworthy ETF Inflows: XLF, BAC, WFC, C  Among the largest underlying components of XLF, in trading today Bank of America Corp (Symbol: BAC) is down about 0.1%, Wells Fargo & Co...',\n",
       " 'Bank of America Sets Record for Patents in 2020 with Majority of Employees Working from Home  Why Carnival Shares Dropped on Tuesday ... The stock of cruise line operator Carnival (NYSE: CCL)(NYSE: CUK) was down as much as 4.3% at...',\n",
       " \"Bank Of America: Dull, But In The Right Sector  BAC is not cheap in comparison to other mega cap banks and the sector's median. Stock ticker. 6M Return. PEG. TTM P/E. FWD P...\",\n",
       " 'Bank of America (BAC) Reports Next Week: Wall Street Expects Earnings Growth  The earnings report, which is expected to be released on April 15, 2021, might help the stock move higher if these key numbers are better than...',\n",
       " 'Thinking about trading options or stock in Fulgent Genetics, Bank of ...  NEW YORK, March 5, 2021 /PRNewswire/ -- InvestorsObserver issues critical PriceWatch Alerts for FLGT, BAC, MWK, NNOX, and WDC.',\n",
       " \"BofA (BAC) Buys Axia Technologies, Boosts Healthcare Payments  Shares of this Zacks Rank #3 (Hold) company have gained 30.3% so far this year, outperforming the industry's 23.5% rally. You can see the...\",\n",
       " \"Bank Of America Vs. Wells Fargo Stock: Which Is A Better Buy  Elevator Pitch. I assign a Bullish rating to Wells Fargo & Company (WFC), while I rate Bank of America Corporation's (BAC) shares as Neutral.\",\n",
       " 'Bank of America Study Finds Nearly Half of Affluent Americans Getting Their Financial Lives in Order During the Pandemic  \"The health crisis has caused many people to take stock of their life priorities and to control what they can during a period of uncertainty,\" said...',\n",
       " '5 Reasons to Pick JPMorgan (JPM) Over Bank of America (BAC)  Nonetheless, after encouraging COVID-19 vaccine related data started coming out since early November, performance of bank stocks has...',\n",
       " 'Thinking about trading options or stock in Bank of America, Carnival ...  NEW YORK, April 8, 2021 /PRNewswire/ -- InvestorsObserver issues critical PriceWatch Alerts for BAC, CCL, NIO, T, and GE. Click a link below...',\n",
       " 'Thinking about trading options or stock in Asana, Nio, Tilray, Alibaba ...  NEW YORK, June 4, 2021 /PRNewswire/ -- InvestorsObserver issues critical PriceWatch Alerts for ASAN, NIO, TLRY, BABA, and BAC.',\n",
       " \"Barron's Latest Picks And Pans: Curaleaf, Bank of America, Crocs, Sherwin-Williams And More  Cherney and Connor Smith makes a case that, while investors chased Canada's pot stocks like Tilray Inc (NASDAQ: TLRY), they ignored the...\",\n",
       " 'Stocks making the biggest moves in the premarket: Tesla, Bank of America, solar companies & more  Bank of America (BAC) – Deutsche Bank named Bank of America a \"top ... + Leisure and also change its ticker symbol to TNL in mid-February.',\n",
       " 'Thinking about trading options or stock in Nio, Bank of America ...  NEW YORK, April 12, 2021 /PRNewswire/ -- InvestorsObserver issues critical PriceWatch Alerts for NIO, BAC, XOM, TLRY, and MARA.',\n",
       " \"Bank of America investors back executive pay, directors  In this article, we discuss the 10 stocks Reddit's WallStreetBets is buying in July 2021. If you want to skip our detailed analysis of these stocks, go...\",\n",
       " \"Here's Why Bank of America, JPMorgan Chase, Wells Fargo, and Other Bank Stocks Are Soaring Today  The stock market is having a day for the record books on Monday. The Dow Jones Industrial Average opened at an all-time high, and the S&P...\",\n",
       " 'Bank of America Corp. to Host Earnings Call  In this article, we will take a look at the 12 best environmental stocks to invest in. You can skip our comprehensive analysis of these companies...',\n",
       " 'Interesting BAC Put And Call Options For May 7th  Investors in Bank of America Corp (Symbol: BAC) saw new options become available today, for the May 7th expiration. At Stock Options...',\n",
       " 'Bank Of America Stock Dividend: What To Know About The Possible Increase  Shares of BAC have gained momentum over the last several months, ... Bank of America currently pays a $0.18 per share quarterly dividend...',\n",
       " 'Bank of America to give bulk of its employees US$750 in cash or stock as bonuses  The bonuses come as banks are struggling with how to balance compensation, as parts of their businesses, such as trading and underwriting...',\n",
       " 'Bank of America to Report First-Quarter 2021 Financial Results on April 15  Bank of America Corporation stock (NYSE: BAC) is listed on the New York Stock Exchange. Story continues.',\n",
       " 'Bank of America Reaches Analyst Target Price  In recent trading, shares of Bank of America Corp (Symbol: BAC) have crossed above the average analyst 12-month target price of $33.57,...',\n",
       " 'Sell Bank Of America  (NYSE: BAC) that suggested market valuations for the stock had fallen into the “buy” zone. At the time, this bullish stance on BAC represented a...',\n",
       " 'Thinking about trading options or stock in Nio, Bank of America, Ford ...  NEW YORK, May 7, 2021 /PRNewswire/ -- InvestorsObserver issues critical PriceWatch Alerts for NIO, BAC, F, AAL, and DKNG. Click a link...',\n",
       " 'Bank Of America Still Has Room To Rise  In the chart below we can see the price performance of BAC, compared with the performance of the financial stocks (XLF) and the stock market in...',\n",
       " 'Thinking about trading options or stock in Apple, Nio, Ford, Virgin ...  NEW YORK, May 25, 2021 /PRNewswire/ -- InvestorsObserver issues critical PriceWatch Alerts for AAPL, NIO, F, SPCE, and BAC. Click a link...',\n",
       " 'Why You Should Own Bank Of America In An Income Portfolio  Despite what the day-to-day algorithmic trading would have you believe, BAC is not just about interest rates and NIM. There are several other...',\n",
       " \"Will Bank Of America Beat Earnings Estimates Next Week?  Bank of America's (NYSE: BAC) stock has been surging, with more than 18% in gains in just the last month. Yet this does not guarantee that...\",\n",
       " 'Bank Of America Option Trader Makes $2.6M Bet The Stock Is Headed Lower By January  Bank of America Corp (NYSE: BAC) shares are up 23.7% in the last six months, but at least one larger option trader is betting the Bank of...',\n",
       " \"Bank Of America: Buffett's Favorite Bank Stock Is 'So-So' In 2021  Bank of America's (BAC) stock is a Warren Buffett favorite that got pummeled in 2020. As of this writing, it was down 14.96% for the year.\",\n",
       " \"Bank of America (BAC) Gains But Lags Market: What You Should Know  The stock lagged the S&P 500's daily gain of 0.15%. Heading into today, shares of the nation's second-largest bank had gained 4.68% over the...\",\n",
       " 'Bank of America Acquires Axia Technologies, Inc.  Continuing the 8% climb that it rode through May, shares of Plug Power rose 11% in June, according to data provided by S&P Global Market...',\n",
       " \"How Bank Of America Has Become One Of Warren Buffett's Best Investments  Buffett ended up investing $5 billion in preferred Bank of America stock redeemable at a 5% premium and paying a 5% annual dividend.\",\n",
       " \"Bank of America (BAC) Surpasses Q1 Earnings and Revenue Estimates  The company has topped consensus revenue estimates two times over the last four quarters. The sustainability of the stock's immediate price...\",\n",
       " 'Bank stocks rally is not over: analyst  In recent quarters, banks have begun releasing the so-called allowance for loan losses. In January, the big four (JPMorgan Chase, Bank of...',\n",
       " 'See Which Of The Latest 13F Filers Holds Bank of America  We then compared that number to the sum total of BAC shares those ... that merit further research, like Bank of America Corp (Symbol: BAC).',\n",
       " \"Bank of America Stock To Beat Earnings Estimates In Q1?  The main support to BAC's revenues in 2020 was growth in the Global Markets segment. However, with recovery in the economy, both the trading...\",\n",
       " 'Bank of America (NYSE:BAC) Could Be A Buy For Its Upcoming Dividend  Have Earnings And Dividends Been Growing? Stocks in companies that generate sustainable earnings growth often make the best dividend...',\n",
       " \"Bank of America Corporation (BAC) Stock Price, News, Quote & ...  If you've got $5,000 that you can afford to invest, then three stocks that should rank high on your list of possible investments are AbbVie (NYSE: ABBV), Bank of...\",\n",
       " 'Bank of America Surpasses Equity Investment Goal of $200 Million and Increases Target to $350 Million to Support Minority Entrepreneurs  Workhorse Group (NASDAQ: WKHS) stock opened at $13.85, dropped to a low of $12.43 during the day and closed at $12.51, a one-day tumble...',\n",
       " 'Thinking about trading options or stock in Nio, Ford, Bank of America ...  NEW YORK, April 5, 2021 /PRNewswire/ -- InvestorsObserver issues critical PriceWatch Alerts for NIO, F, BAC, CCL, and AAL. Click a link...',\n",
       " 'Top Research Reports for Bank of America, Cisco & Boeing  Bank of America shares have outperformed the Zacks Major Regional Banks industry over the past year (+82.3% vs. +73.9%). The Zacks analyst...',\n",
       " \"3 reasons Goldman Sachs is super bullish on bank stocks  The analyst's top picks include Morgan Stanley, Citigroup and Bank of America. He is most subdued on Wells Fargo. Anything less than the...\",\n",
       " 'Bank Stock Roundup: Steepening of Yield Curve and WFC, JPM, C & BAC in Focus  Bank Stock Roundup: Steepening of Yield Curve and WFC, JPM, C & BAC in Focus · Important Developments of the Week · Price Performance.',\n",
       " 'Finance Giant WFC Stock Banks On 91% EPS Rebound In 2021 ...  Wall Street foresees a strong economic rebound in 2021, with financial giants Bank of America (BAC), JPMorgan Chase (JPM) and Citibank (C)...',\n",
       " 'Bank of America to raise U.S. minimum hourly wage to $25 by 2025  For the third day in a row, Carnival Corp. (NYSE: CCL) stock is sinking -- down 3% as of 1 p.m. EDT. Consider: As my fellow Fool Travis Hoium...',\n",
       " \"Were Hedge Funds Able To Catch The Bank of America Corporation (BAC) Train?  Our research has shown that hedge funds' small-cap stock picks managed to beat the market by double digits annually between 1999 and 2016,...\",\n",
       " 'Thinking about buying stock in Neos Therapeutics, Oriental Culture ...  NEW YORK, March 18, 2021 /PRNewswire/ -- InvestorsObserver issues critical PriceWatch Alerts for NEOS, OCG, SINO, BAC, and CANF.',\n",
       " 'Bank of America Corporate Banking, Global Commercial and Business Banking Services Earns J.D. Power Certification for the 12th Consecutive Year  Didi shares slump 25% on China crackdown ... HONG KONG/LONDON (Reuters) -Didi Global Inc shares slumped 25% in U.S. pre-market trade on...',\n",
       " 'Deliveroo IPO stock flop raises questions for Goldman and JP Morgan  Goldman Sachs (GS) and JP Morgan (JPM) were the lead book runners on the deal, while Bank of America (BAC), Citigroup (C), Numis (NUM.',\n",
       " \"Why Bank of America, Disney are stocks to watch in 2021  And Philip, let's get right to your stock pick here because you've got Bank of America there among the banks that you think is going to be a big...\",\n",
       " \"Citigroup, Wells Fargo, Bank of America, Goldman Sachs And JPMorgan Urge Shareholders To Vote Against Racial Equity Oversight  For Branson's sake we can only hope the ride will be less turbulent than that of Virgin Galactic's stock. Virgin Galactic shares blasted off on June...\",\n",
       " \"Bruce Berkowitz's Fairholme Fund Swaps Berkshire Hathaway for Bank of America  (NYSE:BAC) and exited its holding of Berkshire Hathaway Inc. Class B (NYSE:BRK.B) shares during the quarter ended Nov. 30. Bank of...\",\n",
       " \"Quicken Loans parent company's stock skyrockets — CEO weighs in on rising rates  Tip: Try a valid symbol or a specific company name for relevant results ... Please try again later. More content below. BAC · BAC-PP · WFC.\",\n",
       " 'Thinking about trading options or stock in Nio, Plug Power, Intel ...  NEW YORK, May 4, 2021 /PRNewswire/ -- InvestorsObserver issues critical PriceWatch Alerts for NIO, PLUG, INTC, T, and BAC. Click a link...',\n",
       " 'Diamond Hill Capital Trades Citigroup for Bank of America  The firm invested in 15,187,746 new shares of Bank of America (NYSE:BAC) after selling out of its previous holding in the stock in the first...',\n",
       " 'The Zacks Analyst Blog Highlights: JPMorgan, Bank of America, Citigroup, Wells Fargo and Truist Financial  Stocks recently featured in the blog include: JPMorgan Chase & Co. JPM, Bank of America Corporation BAC, Citigroup Inc. C, Wells Fargo...',\n",
       " 'Bank of America: 3 Strong Value Stocks to Buy Now  Bank of America analysts have tagged three tech-oriented stocks as likely gainers. All three fit a profile: they boast a Strong Buy analyst...']"
      ]
     },
     "execution_count": 56,
     "metadata": {},
     "output_type": "execute_result"
    }
   ],
   "source": [
    "text_list"
   ]
  },
  {
   "cell_type": "code",
   "execution_count": 57,
   "metadata": {},
   "outputs": [
    {
     "data": {
      "text/html": [
       "<div>\n",
       "<style scoped>\n",
       "    .dataframe tbody tr th:only-of-type {\n",
       "        vertical-align: middle;\n",
       "    }\n",
       "\n",
       "    .dataframe tbody tr th {\n",
       "        vertical-align: top;\n",
       "    }\n",
       "\n",
       "    .dataframe thead th {\n",
       "        text-align: right;\n",
       "    }\n",
       "</style>\n",
       "<table border=\"1\" class=\"dataframe\">\n",
       "  <thead>\n",
       "    <tr style=\"text-align: right;\">\n",
       "      <th></th>\n",
       "      <th>News</th>\n",
       "      <th>sentiment_no</th>\n",
       "    </tr>\n",
       "  </thead>\n",
       "  <tbody>\n",
       "    <tr>\n",
       "      <th>0</th>\n",
       "      <td>February 2022 Options Now Available For Bank o...</td>\n",
       "      <td>0</td>\n",
       "    </tr>\n",
       "    <tr>\n",
       "      <th>1</th>\n",
       "      <td>BAC July 30th Options Begin Trading  Investors...</td>\n",
       "      <td>1</td>\n",
       "    </tr>\n",
       "    <tr>\n",
       "      <th>2</th>\n",
       "      <td>Why Astra Space Stock Just Dropped 10%  10 sto...</td>\n",
       "      <td>0</td>\n",
       "    </tr>\n",
       "    <tr>\n",
       "      <th>3</th>\n",
       "      <td>Buy WISH Stock Before It Joins GME and AMC as ...</td>\n",
       "      <td>0</td>\n",
       "    </tr>\n",
       "    <tr>\n",
       "      <th>4</th>\n",
       "      <td>Wall Street and Your Fiends Both Like SoFi, So...</td>\n",
       "      <td>1</td>\n",
       "    </tr>\n",
       "    <tr>\n",
       "      <th>...</th>\n",
       "      <td>...</td>\n",
       "      <td>...</td>\n",
       "    </tr>\n",
       "    <tr>\n",
       "      <th>94</th>\n",
       "      <td>Quicken Loans parent company's stock skyrocket...</td>\n",
       "      <td>1</td>\n",
       "    </tr>\n",
       "    <tr>\n",
       "      <th>95</th>\n",
       "      <td>Thinking about trading options or stock in Nio...</td>\n",
       "      <td>1</td>\n",
       "    </tr>\n",
       "    <tr>\n",
       "      <th>96</th>\n",
       "      <td>Diamond Hill Capital Trades Citigroup for Bank...</td>\n",
       "      <td>1</td>\n",
       "    </tr>\n",
       "    <tr>\n",
       "      <th>97</th>\n",
       "      <td>The Zacks Analyst Blog Highlights: JPMorgan, B...</td>\n",
       "      <td>1</td>\n",
       "    </tr>\n",
       "    <tr>\n",
       "      <th>98</th>\n",
       "      <td>Bank of America: 3 Strong Value Stocks to Buy ...</td>\n",
       "      <td>1</td>\n",
       "    </tr>\n",
       "  </tbody>\n",
       "</table>\n",
       "<p>99 rows × 2 columns</p>\n",
       "</div>"
      ],
      "text/plain": [
       "                                                 News  sentiment_no\n",
       "0   February 2022 Options Now Available For Bank o...             0\n",
       "1   BAC July 30th Options Begin Trading  Investors...             1\n",
       "2   Why Astra Space Stock Just Dropped 10%  10 sto...             0\n",
       "3   Buy WISH Stock Before It Joins GME and AMC as ...             0\n",
       "4   Wall Street and Your Fiends Both Like SoFi, So...             1\n",
       "..                                                ...           ...\n",
       "94  Quicken Loans parent company's stock skyrocket...             1\n",
       "95  Thinking about trading options or stock in Nio...             1\n",
       "96  Diamond Hill Capital Trades Citigroup for Bank...             1\n",
       "97  The Zacks Analyst Blog Highlights: JPMorgan, B...             1\n",
       "98  Bank of America: 3 Strong Value Stocks to Buy ...             1\n",
       "\n",
       "[99 rows x 2 columns]"
      ]
     },
     "execution_count": 57,
     "metadata": {},
     "output_type": "execute_result"
    }
   ],
   "source": [
    "df = pd.DataFrame({\"News\": text_list,\n",
    "                   \"sentiment_no\": [clf.predict([text])[0] for text in text_list]})\n",
    "df"
   ]
  },
  {
   "cell_type": "code",
   "execution_count": 58,
   "metadata": {},
   "outputs": [
    {
     "data": {
      "text/plain": [
       "0    53\n",
       "1    46\n",
       "Name: sentiment_no, dtype: int64"
      ]
     },
     "execution_count": 58,
     "metadata": {},
     "output_type": "execute_result"
    }
   ],
   "source": [
    "df.sentiment_no.value_counts()"
   ]
  },
  {
   "cell_type": "code",
   "execution_count": 59,
   "metadata": {},
   "outputs": [],
   "source": [
    "df.sample(13).to_csv(\"stock_text_sample.csv\")"
   ]
  }
 ],
 "metadata": {
  "kernelspec": {
   "display_name": "Python 3",
   "language": "python",
   "name": "python3"
  },
  "language_info": {
   "codemirror_mode": {
    "name": "ipython",
    "version": 3
   },
   "file_extension": ".py",
   "mimetype": "text/x-python",
   "name": "python",
   "nbconvert_exporter": "python",
   "pygments_lexer": "ipython3",
   "version": "3.8.5"
  }
 },
 "nbformat": 4,
 "nbformat_minor": 4
}
