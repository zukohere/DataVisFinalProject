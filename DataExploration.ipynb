{
 "cells": [
  {
   "cell_type": "code",
   "execution_count": null,
   "metadata": {},
   "outputs": [],
   "source": [
    "## Explore and sample stock headlines/blurbs and review the model's ability to evaluate the sentiment.\n",
    "## The purpose of this notebook is to obtain the results of webscraping news headlines and blurbs related to a stock symbol.\n",
    "## and to evaluate how the model regards the sentiment each text."
   ]
  },
  {
   "cell_type": "code",
   "execution_count": 3,
   "metadata": {},
   "outputs": [],
   "source": [
    "import requests\n",
    "import urllib.request\n",
    "import time\n",
    "import spacy\n",
    "from bs4 import BeautifulSoup\n",
    "import pandas as pd\n",
    "from joblib import dump, load"
   ]
  },
  {
   "cell_type": "code",
   "execution_count": 4,
   "metadata": {},
   "outputs": [],
   "source": [
    "clf = load('sentiment.joblib')"
   ]
  },
  {
   "cell_type": "code",
   "execution_count": 35,
   "metadata": {},
   "outputs": [],
   "source": [
    "stock_name = \"GME\""
   ]
  },
  {
   "cell_type": "code",
   "execution_count": 36,
   "metadata": {},
   "outputs": [],
   "source": [
    "numResults = 100\n",
    "url = f'https://www.google.com/search?q=stock+symbol+{stock_name}&tbm=nws&hl=en&num={str(numResults)}'\n",
    "# https://www.google.com/search?q=stock+symbol+AMZN&tbm=nws&hl=en&num=50\n",
    "\n",
    "response = requests.get(url)\n",
    "soup = BeautifulSoup(response.content, 'html.parser')\n",
    "\n",
    "# Get the links, headline and description text\n",
    "results = soup.find_all(\"div\", attrs={\"class\": \"ZINbbc\"})\n",
    "headlines = []\n",
    "descriptions = []\n",
    "links = []\n",
    "for result in results:\n",
    "    try:\n",
    "        headline = result.find(\"div\", attrs={\"class\": \"vvjwJb\"}).get_text()\n",
    "        if headline != \"\":\n",
    "            headlines.append(headline)\n",
    "            links.append(\"google.com\"+result.a[\"href\"])\n",
    "        description = result.find(\n",
    "            \"div\", attrs={\"class\": \"s3v9rd\"}).get_text()\n",
    "        if description != \"\":\n",
    "            # remove the \"1 day ago\" etc.\n",
    "            description = description[description.find(\"·\")+1:]\n",
    "            descriptions.append(description)\n",
    "    except:\n",
    "        continue"
   ]
  },
  {
   "cell_type": "code",
   "execution_count": 47,
   "metadata": {},
   "outputs": [],
   "source": [
    "text_list = []\n",
    "for i in range(0,len(headlines)-1):\n",
    "    text_list.append(headlines[i]+\" \"+descriptions[i])"
   ]
  },
  {
   "cell_type": "code",
   "execution_count": 48,
   "metadata": {},
   "outputs": [
    {
     "data": {
      "text/plain": [
       "[' AMC stock (ticker: AMC) closed up 6.4%, at $47.94, on Thursday. GameStop (GME) was up 0.4%, at $191.38. The S&P 500 index was down...',\n",
       " ' Among the underlying components of the Russell 3000 index, we saw noteworthy options trading volume today in NCR Corp (Symbol: NCR),...',\n",
       " ' The post Buy WISH Stock Before It Joins GME and AMC as a Retail Favorite ... And Bank of America Corp (Symbol: BAC) options are showing a...',\n",
       " ' Pachter, 65, who started at Wedbush in 1997, figured the craziness around GameStop (ticker: GME) was winding down in February.',\n",
       " ' Sebastian wrote that he recognized that GameStop (ticker: GME) is shifting rapidly from in-store videogame sales to e-commerce, but that he...',\n",
       " \" It's paid to follow what stocks Reddit's Wall Street Bets crowd are talking about this year, as several have gone through epic ... Ticker: GME\",\n",
       " ' And GameStop Corp (Symbol: GME) saw options trading volume of 157,110 contracts, representing approximately 15.7 million underlying...',\n",
       " ' GameStop stock (ticker: GME) closed down 27%, to $220.39. It was its lowest close since May 25, snapping a three-day winning streak.',\n",
       " ' It will trade under the ticker HOOD on the Nasdaq market. ... of its handling of the frenzied trading in GameStop (ticker: GME) shares in January.',\n",
       " \" Among the largest underlying components of IJS, in trading today GameStop Corp (Symbol: GME) is down about 4.3%, Macy's Inc (Symbol: M)...\",\n",
       " ' In the first three months of 2021, as millions of novice traders bought GameStop (ticker: GME) and AMC Entertainment Holdings (AMC) stock...',\n",
       " ' GameStop stock (ticker: GME) was up about 4.6% on Tuesday afternoon, to around $209.50. That follows declines of 6.3% on Monday and...',\n",
       " ' Investors in GameStop Corp (Symbol: GME) saw new options become available today, for the July 30th expiration. At Stock Options Channel,...',\n",
       " ' Newegg shares were down nearly 20% after soaring 148% on Wednesday. ... (AMC) - Get Report and GameStop (GME) - Get Report also traded lower. ... Marin Software stock was the second-highest trending ticker on...',\n",
       " ' GameStop Corp (Symbol: GME) saw options trading volume of 156,401 contracts, representing approximately 15.6 million underlying shares or...',\n",
       " ' GameStop (GME) – GameStop revamped its executive suite by hiring ... as BarkBox began trading under its new name and ticker symbol last...',\n",
       " \" Among the largest underlying components of IJR, in trading today GameStop Corp (Symbol: GME) is up about 0.5%, Macy's Inc (Symbol: M) is...\",\n",
       " ' Not surprisingly, GameStop (ticker: GME) topped the list of the best performing retailers in the first half of the year. But not every stock can be a...',\n",
       " \" Here are the 5 stocks Reddit's WallStreetBets are talking about today ... mentioned tickers, courtesy of real-time reddit ticker analytics site YoloStocks. ... GameStop (GME): The original meme stock is still going strong, but some...\",\n",
       " ' GameStop Corp (Symbol: GME) saw options trading volume of 157,029 contracts, representing approximately 15.7 million underlying shares or...',\n",
       " \" The company didn't immediately respond to a request for comment. GameStop stock (ticker: GME) was down 0.8% to $217.32 in Thursday...\",\n",
       " \" As AMC's stock surged, an Invesco 'reopening' fund sold shares of the meme ... trading in AMC Entertainment Holdings AMC and GameStop Corp GME. ... PEJ, referring to the Invesco ETF's ticker symbol, also is an important...\",\n",
       " ' GameStop (ticker: GME) shares soared as high as 12.7% on Tuesday following news that the company has raised $1.13 billion in capital after...',\n",
       " ' The New York company did not disclose how many shares it would sell or ... Not surprisingly, GameStop (ticker: GME) topped the list of the best...',\n",
       " ' The real estate investment trust are their landlords. They were so pessimistic. EPR Properties (NYSE:EPR) is one that I follow in particular, ticker...',\n",
       " ' Sustainable Food, Advanced Farming Techniques, Investing in Cities: GME Innotainment, Inc. (Stock Symbol: GMEV). News Provided By.',\n",
       " ' GameStop (ticker: GME) shares closed down 27.2% after disclosing a Securities and Exchange Commission probe into trading in its stock, as...',\n",
       " ' Take the original meme stock, GameStop (ticker: GME). Its short-interest ratio, which is essentially the amount of stock sold short by bearish...',\n",
       " ' Stocks closed down on Wednesday as investors wait for key economic data out later this ... Shares of GameStop (ticker: GME) gained 0.85%.',\n",
       " ' Todd Gordon, founder of TradingAnalysis.com, told CNBC on Wednesday that one of those stocks should continue its hot streak on the back of...',\n",
       " ' This weekend I finally caved and headed to GameStop (GME) - Get Report to buy a ... And what stood out to me is the plan for the ticker symbol.',\n",
       " ' \"Meme-stock mania,\" the wild moves of stock prices driven by retail investors which started with GameStop (GME) in January of this year, has...',\n",
       " ' Shares of 23andMe (ME) rose 21% to close at $13.32 apiece in their trading debut on the Nasdaq as the consumer genetic testing company...',\n",
       " ' ContextLogic stock (ticker: WISH) closed down 8.9% on Wednesday, ... GameStop (GME) added 0.9%, and BlackBerry (BB) slipped 4.1%.',\n",
       " ' And in early 2004, BlackBerry stock, known by the ticker symbol RIMM at the time, built the gold standard for a rare chart pattern identified by...',\n",
       " \" Digging deeper into the the meme stock phenomenon, there are big ... have included confusion over Wendy's ticker symbol, when the stock...\",\n",
       " ' Clean Energy Fuels (ticker: CLNE), the stock some are targeting, ... that GameStop (GME) had before that stock was squeezed in January.',\n",
       " ' ARK Invest hopes to use the ticker symbol ARKB if the SEC approves ... GME) started the whole Reddit-fueled \"meme stock\" trend earlier this...',\n",
       " ' MicroVision (NASDAQ:MVIS) is currently trading at valuations completely ... social sentiment tools (Swaggystocks), tracking ticker-sentiment on WSB, MVIS ... of popular meme-stocks such as GameStop (NYSE:GME) and AMC...',\n",
       " ' GameStop GME, -0.67% shares closed up on the day despite a ... of the ticker symbol PLAY soaring 26,700% according to HypeEquity, and...',\n",
       " ' Ticker, Security, Last, Change, Change % ... on the New York Stock Exchange under the ticker symbol CXM. ... GME, GAMESTOP CORP.',\n",
       " \" When you buy stock in a company, you're (typically) making a bet that ... $1000+ GME”—GME is the stock ticker symbol for GameStop—reads...\",\n",
       " ' GameStop (NYSE: GME) has become a viable turnaround candidate despite its meme stock status. Despite several activist investors sniffing...',\n",
       " ' Lianluo previously held the ticker symbol LLIT, and Newegg was formerly a privately held company. ... if you liked $GME heres $GME squared.',\n",
       " ' Any investor can buy GameStop stock through a broker. Remember, the stock trades on the New York Stock Exchange under the GME ticker. If...',\n",
       " ' GameStop (NYSE: GME) has become a viable turnaround candidate despite its meme stock status. Despite several activist investors sniffing...',\n",
       " ' Investors in GameStop Corp. GME need to pay close attention to the stock based on moves in the options market lately. That is because the Apr...',\n",
       " ' GME Resources stock closed up 13% at 8.5 Australian cents, or a gain ... the stock for shits and giggles, just because of the ticker symbol,” said...',\n",
       " ' This upgrade primarily reflects an upward trend in earnings estimates, which is one of the most powerful forces impacting stock prices. The Zacks...',\n",
       " \" GameStop (NYSE:GME) shares close out the meme stocks list up over 6% with some 3 million shares moving. The stock's daily average trading...\",\n",
       " \" Today, GameStop (NYSE:GME) stock sits at a similar juncture. Since the early 2010s, GME's top brass had treated the retailer like drunks at an...\",\n",
       " ' Meme stocks are making your 401(k) returns look minuscule. ... to shares of GameStop (ticker: GME)—the alpha dog in the meme stock...',\n",
       " \" Shares of GameStop soared last month after Reddit users banded ... and GameStop's stock symbol, “GME,” across conversations and profiles...\",\n",
       " \" GameStop (GME) closed at $209.81 in the latest trading session, marking a +0.79% move from the prior day. The stock outpaced the S&P 500's...\",\n",
       " ' Which Stocks Turned $10,000 Into The Biggest Gains? S&P 1500 stocks up the most this year so far. Company, Symbol, Stock YTD % ch. What...',\n",
       " \" There's a stepper motor to feed the paper, another to spin an inked embossing wheel, and a couple of solenoids attached to a pusher plate.\",\n",
       " \" Bearish Wall Street analysts aren't budging. GameStop stock (ticker: GME) dipped just 1.3% to $184.50 on Tuesday, while the S&P 500 index...\",\n",
       " \" Among the largest underlying components of VIOV, in trading today GameStop Corp (Symbol: GME) is down about 2.3%, Macy's Inc (Symbol:...\",\n",
       " ' GameStop stock (ticker: GME) closed down 33.8%, at $120.34. The S&P 500 index fell 0.6%, while the Dow Jones Industrial Average ended flat...',\n",
       " \" Now let's view the latest hedge fund action surrounding GameStop Corp. (NYSE:GME). Do Hedge Funds Think GME Is A Good Stock To Buy Now...\",\n",
       " ' The shares (symbol GME) were powered by amateur day traders who banded together on the social media site Reddit to orchestrate a buy-GME...',\n",
       " ' The phenomenon that began earlier in the year thanks to GameStop (NYSE: GME) stock has caused an avalanche of trading activity spilling...',\n",
       " ' GameStop (GME) closed the most recent trading day at $154.69, moving -1.12% from the previous trading session. This change lagged the...',\n",
       " ' The stock (ticker: GME) closed down 5.4% to $208.17, compared to an intraday low of $172.35. The stock is up 6606% from its one-year low of...',\n",
       " ' The stock moved lower in pre-market trading this morning. Meanwhile, shares in GameStop (GME), a company that has lost huge amounts of...',\n",
       " \" GME Stock: Back From the Dead. In a year where both Microsoft's (NASDAQ:MSFT) Xbox and Sony's (NYSE:SNE) PlayStation finally released...\",\n",
       " ' The stock is soaring. GameStop (ticker: GME) said the board of directors formed the strategic planning and capital-allocation committee that...',\n",
       " ' The rally carried over into after hours trading, with the stock up another ... The rally is a sudden return of volatility for GameStop (ticker: GME)...',\n",
       " ' That is when traders recognize that there are a lot of people sitting short of a stock and buy to force the price up. That forces those who are short...',\n",
       " ' In a note on Friday, Nagle reiterated a $10 price target and Underperform rating on GameStop stock (ticker: GME). In other words, Nagle sees...',\n",
       " \" “GME is dead,” one user, BoBo_HUST, wrote on Reddit's WallStreetBets forum, using GameStop's ticker symbol. Then the commenter...\",\n",
       " ' GameStop Corp. (NYSE: GME) shares closed at $101.74 Friday after the stock surged from under $45 on Wednesday to as high as $184.68 on...',\n",
       " \" Shares of the video game retailer spiked after traders on Reddit began ... and Nokia, the companies that Robinhood listed by ticker symbol are phone ... and knowingly removing the stock 'GME' from its trading platform in the...\",\n",
       " ' He immediately checked the finance app Robinhood for the trading price ... he bought shares of GameStop, whose ticker symbol is GME, in two...',\n",
       " ' GameStop (GME) closed the most recent trading day at $144.79, moving -1.45% from the previous trading session. This change was narrower...',\n",
       " ' Shares of GameStop (ticker: GME) were down 10% to $142.50 shortly before noon. Ascendiant Capital Markets analyst Edward Woo lowered...',\n",
       " ' Shares of videogame retailer GameStop (ticker: GME) this month have surged back near their late January levels this month. At the close...',\n",
       " ' That raises the question what will happen to GameStop shares (ticker: GME) when Russell revamps its indexes in June, a process that starts in...',\n",
       " ' Case in point, tiny Zoom Technologies (then under the ticker symbol ZOOM ... brick-and-mortar video-game retailer GameStop (GME), shares of...',\n",
       " ' Among the largest underlying components of XRT, in trading today GameStop Corp (Symbol: GME) is up about 4.9%, Magnite Inc (Symbol:...',\n",
       " ' ... Worth Of Vested Stocks On Their Way Out. Read full article. Oops! Something went wrong. Please try again later. More content below. GME.',\n",
       " \" The video game retailer's stock is down 84 percent this week, and the rout has convinced many who favored ... “GME is dead,” one user, BoBo_HUST, wrote on Reddit's WallStreetBets forum, using GameStop's ticker symbol.\",\n",
       " ' (ticker: GME) climbed Monday after Keith Gill, a trader known as \"Roaring Kitty,\" said he\\'d bought an additional 50,000 shares of the video game...',\n",
       " \" The company's shares were rising Monday after it said it completed a $551 million stock sale. GameStop stock (ticker: GME) rose 11.5% on...\",\n",
       " ' Short-selling in GameStop (GME) stock alone crashed nearly 80%. That\\'s a problem for online \"meme\" investors who target heavily shorted...',\n",
       " \" “IMAGINE NOT BUYING GME WHEN DFV DOUBLE DOWN,” one user, u/CyAn_BryAn, said, referencing the video-game retailer's ticker symbol...\",\n",
       " ' Shares of video game retailer GameStop Corp. (ticker: GME) ascended 19% Thursday, building on its Wednesday rally when it soared more...',\n",
       " ' Investors in GameStop Corp (Symbol: GME) saw new options become available this week, for the June 18th expiration. At Stock Options...',\n",
       " ' The line refers to a popular internet meme that uses \"Brrr\" to signify the sound a money-printing machine makes. GME is the stock\\'s ticker symbol...',\n",
       " ' Tip: Try a valid symbol or a specific company name for relevant results ... Please try again later. More content below. GME. Vladimir Zernov.',\n",
       " ' Timing a trade perfectly is nearly impossible even for the best stock ... from trading the stock whose ticker symbol is GME: GMEbagholdersclub.',\n",
       " \" The stock's (ticker: GME) percentage gain was its largest since Feb. 24, when it jumped 104%. Over 50.4 million shares traded on Thursday,...\",\n",
       " ' ... that the shocking speculative mania underway in heavily shorted shares of fundamentally challenged companies such as GameStop (GME),...',\n",
       " \" MicroVision's ticker, MVIS, was the most mentioned stock on ... data show, roughly double the mentions of GameStop's symbol, GME. Though...\",\n",
       " ' Investors in GameStop Corp (Symbol: GME) saw new options begin trading today, for the March 19th expiration. At Stock Options Channel, our...',\n",
       " ' ... to host a livestream discussing five reasons those buying GameStop (ticker: GME) stock at recent levels “are the suckers at this poker game.”.',\n",
       " ' U.S. stocks jumped on Thursday, roaring back from a sharp sell-off ... These stocks, including brick-and-mortar video game retailer GameStop (GME) and ... just speculating on a stock symbol in the ultimate game of hot potato.',\n",
       " ' Small \"value\" stocks are on fire this year, and GameStop stock (GME) is the hottest of the bunch. But don\\'t assume your small value ETF has...',\n",
       " ' GME need to pay close attention to the stock based on moves in the ... volatility suggest that investors in the underlying stocks are expecting a...']"
      ]
     },
     "execution_count": 48,
     "metadata": {},
     "output_type": "execute_result"
    }
   ],
   "source": [
    "text_list"
   ]
  },
  {
   "cell_type": "code",
   "execution_count": 49,
   "metadata": {},
   "outputs": [
    {
     "data": {
      "text/html": [
       "<div>\n",
       "<style scoped>\n",
       "    .dataframe tbody tr th:only-of-type {\n",
       "        vertical-align: middle;\n",
       "    }\n",
       "\n",
       "    .dataframe tbody tr th {\n",
       "        vertical-align: top;\n",
       "    }\n",
       "\n",
       "    .dataframe thead th {\n",
       "        text-align: right;\n",
       "    }\n",
       "</style>\n",
       "<table border=\"1\" class=\"dataframe\">\n",
       "  <thead>\n",
       "    <tr style=\"text-align: right;\">\n",
       "      <th></th>\n",
       "      <th>News</th>\n",
       "      <th>sentiment_no</th>\n",
       "    </tr>\n",
       "  </thead>\n",
       "  <tbody>\n",
       "    <tr>\n",
       "      <th>0</th>\n",
       "      <td>AMC stock (ticker: AMC) closed up 6.4%, at $4...</td>\n",
       "      <td>0</td>\n",
       "    </tr>\n",
       "    <tr>\n",
       "      <th>1</th>\n",
       "      <td>Among the underlying components of the Russel...</td>\n",
       "      <td>1</td>\n",
       "    </tr>\n",
       "    <tr>\n",
       "      <th>2</th>\n",
       "      <td>The post Buy WISH Stock Before It Joins GME a...</td>\n",
       "      <td>0</td>\n",
       "    </tr>\n",
       "    <tr>\n",
       "      <th>3</th>\n",
       "      <td>Pachter, 65, who started at Wedbush in 1997, ...</td>\n",
       "      <td>1</td>\n",
       "    </tr>\n",
       "    <tr>\n",
       "      <th>4</th>\n",
       "      <td>Sebastian wrote that he recognized that GameS...</td>\n",
       "      <td>0</td>\n",
       "    </tr>\n",
       "    <tr>\n",
       "      <th>...</th>\n",
       "      <td>...</td>\n",
       "      <td>...</td>\n",
       "    </tr>\n",
       "    <tr>\n",
       "      <th>94</th>\n",
       "      <td>Investors in GameStop Corp (Symbol: GME) saw ...</td>\n",
       "      <td>1</td>\n",
       "    </tr>\n",
       "    <tr>\n",
       "      <th>95</th>\n",
       "      <td>... to host a livestream discussing five reas...</td>\n",
       "      <td>1</td>\n",
       "    </tr>\n",
       "    <tr>\n",
       "      <th>96</th>\n",
       "      <td>U.S. stocks jumped on Thursday, roaring back ...</td>\n",
       "      <td>1</td>\n",
       "    </tr>\n",
       "    <tr>\n",
       "      <th>97</th>\n",
       "      <td>Small \"value\" stocks are on fire this year, a...</td>\n",
       "      <td>1</td>\n",
       "    </tr>\n",
       "    <tr>\n",
       "      <th>98</th>\n",
       "      <td>GME need to pay close attention to the stock ...</td>\n",
       "      <td>1</td>\n",
       "    </tr>\n",
       "  </tbody>\n",
       "</table>\n",
       "<p>99 rows × 2 columns</p>\n",
       "</div>"
      ],
      "text/plain": [
       "                                                 News  sentiment_no\n",
       "0    AMC stock (ticker: AMC) closed up 6.4%, at $4...             0\n",
       "1    Among the underlying components of the Russel...             1\n",
       "2    The post Buy WISH Stock Before It Joins GME a...             0\n",
       "3    Pachter, 65, who started at Wedbush in 1997, ...             1\n",
       "4    Sebastian wrote that he recognized that GameS...             0\n",
       "..                                                ...           ...\n",
       "94   Investors in GameStop Corp (Symbol: GME) saw ...             1\n",
       "95   ... to host a livestream discussing five reas...             1\n",
       "96   U.S. stocks jumped on Thursday, roaring back ...             1\n",
       "97   Small \"value\" stocks are on fire this year, a...             1\n",
       "98   GME need to pay close attention to the stock ...             1\n",
       "\n",
       "[99 rows x 2 columns]"
      ]
     },
     "execution_count": 49,
     "metadata": {},
     "output_type": "execute_result"
    }
   ],
   "source": [
    "df = pd.DataFrame({\"News\": text_list,\n",
    "                   \"sentiment_no\": [clf.predict([text])[0] for text in text_list]})\n",
    "df"
   ]
  },
  {
   "cell_type": "code",
   "execution_count": 50,
   "metadata": {},
   "outputs": [
    {
     "data": {
      "text/plain": [
       "1    58\n",
       "0    41\n",
       "Name: sentiment_no, dtype: int64"
      ]
     },
     "execution_count": 50,
     "metadata": {},
     "output_type": "execute_result"
    }
   ],
   "source": [
    "df.sentiment_no.value_counts()"
   ]
  },
  {
   "cell_type": "code",
   "execution_count": 52,
   "metadata": {},
   "outputs": [],
   "source": [
    "df.sample(13).to_csv(\"stock_text_sample.csv\")"
   ]
  }
 ],
 "metadata": {
  "kernelspec": {
   "display_name": "Python 3",
   "language": "python",
   "name": "python3"
  },
  "language_info": {
   "codemirror_mode": {
    "name": "ipython",
    "version": 3
   },
   "file_extension": ".py",
   "mimetype": "text/x-python",
   "name": "python",
   "nbconvert_exporter": "python",
   "pygments_lexer": "ipython3",
   "version": "3.8.5"
  }
 },
 "nbformat": 4,
 "nbformat_minor": 4
}
